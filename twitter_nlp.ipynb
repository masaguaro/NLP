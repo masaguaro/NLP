{
 "cells": [
  {
   "cell_type": "markdown",
   "metadata": {},
   "source": [
    "## Twitter NLP for English and Spanish text\n"
   ]
  },
  {
   "cell_type": "code",
   "execution_count": 1,
   "metadata": {},
   "outputs": [],
   "source": [
    "import json, os, platform\n",
    "from twitter_client import get_twitter_client\n",
    "from tweepy import Cursor\n",
    "cwd = os.getcwd()"
   ]
  },
  {
   "cell_type": "code",
   "execution_count": 2,
   "metadata": {},
   "outputs": [],
   "source": [
    "client = get_twitter_client()\n",
    "#print(client.me())"
   ]
  },
  {
   "cell_type": "code",
   "execution_count": 3,
   "metadata": {},
   "outputs": [
    {
     "name": "stdout",
     "output_type": "stream",
     "text": [
      "Please introduce the twitter user name  jeremycorbyn\n"
     ]
    }
   ],
   "source": [
    "twitter_user = input('Please introduce the twitter user name  ')"
   ]
  },
  {
   "cell_type": "code",
   "execution_count": 4,
   "metadata": {},
   "outputs": [
    {
     "name": "stdout",
     "output_type": "stream",
     "text": [
      "jeremycorbyn\n",
      "C:\\Users\\Rodolfo\\Desktop\\NLP\\raw_data\\user_timeline_jeremycorbyn.jsonl\n"
     ]
    }
   ],
   "source": [
    "print(twitter_user)\n",
    "\n",
    "if os.path.isdir(os.path.join(cwd,'raw_data')):\n",
    "    fname = os.path.join(cwd, 'raw_data', 'user_timeline_{}.jsonl'.format(twitter_user)) \n",
    "else:\n",
    "    fname = os.path.join(os.mkdir(os.path.join(cwd,'raw_data')), 'user_timeline_{}.jsonl'.format(twitter_user ))   \n",
    "    \n",
    "print(fname)"
   ]
  },
  {
   "cell_type": "code",
   "execution_count": 5,
   "metadata": {},
   "outputs": [],
   "source": [
    "with open(fname, 'w') as f:\n",
    "    for page in Cursor(client.user_timeline, screen_name=twitter_user, count=200).pages(16):\n",
    "        for status in page:\n",
    "            f.write(json.dumps(status._json) + \"\\n\")"
   ]
  }
 ],
 "metadata": {
  "kernelspec": {
   "display_name": "Python 3",
   "language": "python",
   "name": "python3"
  },
  "language_info": {
   "codemirror_mode": {
    "name": "ipython",
    "version": 3
   },
   "file_extension": ".py",
   "mimetype": "text/x-python",
   "name": "python",
   "nbconvert_exporter": "python",
   "pygments_lexer": "ipython3",
   "version": "3.6.3"
  }
 },
 "nbformat": 4,
 "nbformat_minor": 2
}
